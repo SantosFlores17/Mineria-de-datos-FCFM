{
 "cells": [
  {
   "cell_type": "markdown",
   "metadata": {},
   "source": [
    "**#Ejercicio 1:**\n",
    "Realiza una variable con tu matricula y realiza una secuencia de imprimir con tu nombre y tu matricula concatenados."
   ]
  },
  {
   "cell_type": "code",
   "execution_count": 1,
   "metadata": {},
   "outputs": [
    {
     "name": "stdout",
     "output_type": "stream",
     "text": [
      "Aldair Santos Flores Ramos 1796550\n"
     ]
    }
   ],
   "source": [
    "a= \"1796550\"\n",
    "print(\"Aldair Santos Flores Ramos \"+ a)\n"
   ]
  },
  {
   "cell_type": "markdown",
   "metadata": {},
   "source": [
    "**Ejercicio 2:**\n",
    "Pidiendo el input del usuario pide dos números y crea una pequeña calculadora con los operadores básicos de suma, resta, multiplicación, división, y exponente.\n",
    "Utilizando el loop de while"
   ]
  },
  {
   "cell_type": "code",
   "execution_count": 2,
   "metadata": {},
   "outputs": [
    {
     "name": "stdout",
     "output_type": "stream",
     "text": [
      "Quiere utilizar la calculadora?: Cualquier numero si, 0 no1\n",
      "Ingresa el primer numero: 2\n",
      "Ingresa el segundo numero: 4\n",
      "Suma: 6\n",
      "Resta: -2\n",
      "Multiplicacion: 8\n",
      "Division: 0.5\n",
      "Exponente: 16\n",
      "Quiere utilizar la calculadora?: Cualquier numero si, 0 no0\n"
     ]
    }
   ],
   "source": [
    "opc= int(input(\"Quiere utilizar la calculadora?: Cualquier numero si, 0 no\"))\n",
    "while opc != 0:\n",
    "    a1= int(input(\"Ingresa el primer numero: \"))\n",
    "    a2= int(input(\"Ingresa el segundo numero: \"))\n",
    "    suma= a1+a2\n",
    "    resta= a1-a2\n",
    "    multiplicacion= a1*a2\n",
    "    division= a1/a2\n",
    "    exponente= a1**a2\n",
    "    print(\"Suma:\", suma)\n",
    "    print(\"Resta:\", resta)\n",
    "    print(\"Multiplicacion:\", multiplicacion)\n",
    "    print(\"Division:\",division)\n",
    "    print(\"Exponente:\",exponente)\n",
    "    opc= int(input(\"Quiere utilizar la calculadora?: Cualquier numero si, 0 no\"))"
   ]
  },
  {
   "cell_type": "markdown",
   "metadata": {},
   "source": [
    "**Ejercicio 3:**\n",
    "Con loop while o for, realiza una lista de 10 numeros multiplos de 3, y después realiza una función de loop que sume todos los números dentro del arreglo."
   ]
  },
  {
   "cell_type": "code",
   "execution_count": 3,
   "metadata": {},
   "outputs": [
    {
     "name": "stdout",
     "output_type": "stream",
     "text": [
      "3\n",
      "6\n",
      "9\n",
      "12\n",
      "15\n",
      "18\n",
      "21\n",
      "24\n",
      "27\n",
      "30\n",
      "La suma de los elementos es: 165\n"
     ]
    }
   ],
   "source": [
    "lista = [] \n",
    "suma= 0\n",
    "for i in range(1,11):\n",
    "    serie = i * 3\n",
    "    suma= serie+suma\n",
    "    print(serie)\n",
    "print(\"La suma de los elementos es:\", suma)\n",
    "   \n",
    "    \n",
    "    "
   ]
  },
  {
   "cell_type": "markdown",
   "metadata": {},
   "source": [
    "**Ejercicio 4**\n",
    "Con una función de if else, revisar si un número es par o es impar.\n",
    "\n",
    "Con una función de if else, revisar si un número es primo o no.\n",
    "\n",
    "**Par o no**"
   ]
  },
  {
   "cell_type": "code",
   "execution_count": 4,
   "metadata": {},
   "outputs": [
    {
     "name": "stdout",
     "output_type": "stream",
     "text": [
      "Ingrese el numero: 1\n",
      "El numero es impar\n"
     ]
    }
   ],
   "source": [
    "numero = int(input(\"Ingrese el numero: \"))\n",
    "if numero % 2 == 0:\n",
    "    print(\"El numero es par\")\n",
    "else :\n",
    "    print(\"El numero es impar\")\n",
    "\n"
   ]
  },
  {
   "cell_type": "markdown",
   "metadata": {},
   "source": [
    "**Primo o no**"
   ]
  },
  {
   "cell_type": "code",
   "execution_count": 5,
   "metadata": {},
   "outputs": [
    {
     "name": "stdout",
     "output_type": "stream",
     "text": [
      "Ingrese el numero: 5\n",
      "su numero es primo\n"
     ]
    }
   ],
   "source": [
    "num = int(input(\"Ingrese el numero: \"))\n",
    "primo = 0\n",
    "for i in range(2,num):\n",
    "    if num%i==0:\n",
    "        primo=primo+1\n",
    "if primo==0:\n",
    "    print(\"su numero es primo\")\n",
    "else:\n",
    "    print(\"El numero no es primo\")"
   ]
  },
  {
   "cell_type": "markdown",
   "metadata": {},
   "source": [
    "**Tuplas**\n",
    "**Crear una variable flotante, integer, boleana y compleja e imprimir el tipo de variable que es.\n",
    "**Crear una tupla con valores enteros imprimir el primer y ultimo valor.\n",
    "**Añadir 3 valores de string a la tuplas\n",
    "**verificar si una variable existe dentro de la tupla."
   ]
  },
  {
   "cell_type": "code",
   "execution_count": 37,
   "metadata": {},
   "outputs": [
    {
     "name": "stdout",
     "output_type": "stream",
     "text": [
      "La variable 9.5 es de tipo <class 'float'>\n",
      "La variable 18 es de tipo <class 'int'>\n",
      "La variable True es de tipo <class 'bool'>\n",
      "La variable 15j es de tipo <class 'complex'>\n",
      "Primer Valor: 45\n",
      "Ultimo valor: 48\n",
      "(45, 654, 456, 47, 48, 'aldair', 'santos', 'flores')\n",
      "¿aldair se encuentra en la tupla? True\n",
      "¿45 se encuentra en la tupla? True\n",
      "¿50 se encuentra en la tupla? False\n"
     ]
    }
   ],
   "source": [
    "flo=9.5\n",
    "ent=18\n",
    "bol=True\n",
    "com=15j\n",
    "print('La variable',flo,'es de tipo',type(flo))\n",
    "print('La variable',ent,'es de tipo',type(ent))\n",
    "print('La variable',bol,'es de tipo',type(bol))\n",
    "print('La variable',com,'es de tipo',type(com))\n",
    "tup=(45,654,456,47,48)\n",
    "l=len(tup)\n",
    "print('Primer Valor:',tup[0])\n",
    "print('Ultimo valor:',tup[l-1])\n",
    "tup+=('aldair','santos','flores')\n",
    "print(tup)\n",
    "print(\"¿aldair se encuentra en la tupla?\", 'aldair' in tup)\n",
    "print(\"¿45 se encuentra en la tupla?\", 45 in tup)\n",
    "print(\"¿50 se encuentra en la tupla?\", 50 in tup)"
   ]
  },
  {
   "cell_type": "markdown",
   "metadata": {},
   "source": [
    "**Listas**\n",
    "Crear una lista con 40 elementos aleatorios enteros.\n",
    "\n",
    "Con una funcion (def) crear dos listas nuevas a partir de la lista creada por numeros aleatorios, en la cual en una esten los elementos pares, y en la otra los elementos impares.\n",
    "\n",
    "Crear dos variables con la longitud de ambas listas nuevas e imprimir las variables.\n",
    "\n",
    "Ordenar los elementos de la lista par de mayor a menor, y los de la lista impar de menor a mayor.\n",
    "\n",
    "Utilizar al menos cuatro de las funciones de listas en python en la lista original de 40 elementos"
   ]
  },
  {
   "cell_type": "code",
   "execution_count": 11,
   "metadata": {},
   "outputs": [
    {
     "name": "stdout",
     "output_type": "stream",
     "text": [
      "[38, 46, 38, 6, 28, 54, 76, 85, 37, 86, 76, 60, 85, 79, 93, 77, 99, 47, 20, 4, 96, 93, 16, 31, 92, 31, 18, 3, 75, 36, 33, 98, 82, 54, 13, 36, 42, 70, 84, 28]\n",
      "25\n",
      "15\n",
      "[4, 6, 16, 18, 20, 28, 28, 36, 36, 38, 38, 42, 46, 54, 54, 60, 70, 76, 76, 82, 84, 86, 92, 96, 98]\n",
      "[99, 93, 93, 85, 85, 79, 77, 75, 47, 37, 33, 31, 31, 13, 3]\n"
     ]
    },
    {
     "data": {
      "text/plain": [
       "1"
      ]
     },
     "execution_count": 11,
     "metadata": {},
     "output_type": "execute_result"
    }
   ],
   "source": [
    "import random as r\n",
    "lista= []\n",
    "numero= 0 \n",
    "def paronopar(x):\n",
    "    par= []\n",
    "    nopar=[]\n",
    "    for i in x:\n",
    "        if i%2==0:\n",
    "            par.append(i)\n",
    "        else:\n",
    "            nopar.append(i)\n",
    "    lon1= len(par)\n",
    "    lon2= len(nopar)\n",
    "    print(lon1)\n",
    "    print(lon2)\n",
    "    par.sort()\n",
    "    nopar.sort(reverse=True)\n",
    "    print(par)\n",
    "    print(nopar)\n",
    "    return\n",
    "        \n",
    "for i in range(1,41):\n",
    "        numero= r.randint(1,100)\n",
    "        lista.append(numero)\n",
    "print(lista)\n",
    "paronopar(lista)\n",
    "len(lista)\n",
    "lista.count(2)\n",
    "lista.extend([1])\n",
    "lista.pop()\n",
    "\n"
   ]
  },
  {
   "cell_type": "markdown",
   "metadata": {},
   "source": [
    "**Diccionarios**\n",
    "Crear un diccionario de 6 personas que conozcas con su primer nombre y su edad.\n",
    "\n",
    "Crear una lista con los valores de la edad y reacomodar la lista de menor a mayor valor.\n",
    "\n",
    "Usando el diccionario y un loop, imprimir solo los nombres.\n",
    "\n",
    "Añadir dos personas nuevas a tu diccionario, incluyendo edad."
   ]
  },
  {
   "cell_type": "code",
   "execution_count": 12,
   "metadata": {},
   "outputs": [
    {
     "name": "stdout",
     "output_type": "stream",
     "text": [
      "[19, 19, 20, 20, 21, 21]\n",
      "Santos\n",
      "Luisa\n",
      "Yaziel\n",
      "Luis\n",
      "Sofia\n",
      "Yamileth\n",
      "{'Santos': 21, 'Luisa': 20, 'Yaziel': 19, 'Luis': 19, 'Sofia': 21, 'Yamileth': 20, 'lupita': 41, 'pedro': 49}\n"
     ]
    }
   ],
   "source": [
    "dic = {'Santos': 21, 'Luisa': 20, 'Yaziel': 19, 'Luis': 19, 'Sofia': 21, 'Yamileth': 20}\n",
    "edades= dic.values()\n",
    "edad= list(edades)\n",
    "edad.sort()\n",
    "print(edad)\n",
    "\n",
    "for key in dic:\n",
    "  print(key)\n",
    "dic.setdefault('lupita',41)\n",
    "dic.setdefault('pedro',49)\n",
    "print(dic )"
   ]
  },
  {
   "cell_type": "markdown",
   "metadata": {},
   "source": [
    "**Sets**\n",
    "\n",
    "Crea un set con 100 numeros aleatorios enteros del 1 al 25.\n",
    "\n",
    "Comprueba la longitud de tu set.\n",
    "\n",
    "Crea una lista de 5 numeros aleatorios del 1 al 10 y comprueba si cada valor aparece en el set inicial."
   ]
  },
  {
   "cell_type": "code",
   "execution_count": 31,
   "metadata": {},
   "outputs": [
    {
     "name": "stdout",
     "output_type": "stream",
     "text": [
      "{1, 2, 3, 4, 5, 6, 7, 8, 9, 10, 11, 12, 13, 14, 15, 16, 17, 18, 19, 20, 21, 22, 23, 24, 25}\n",
      "25\n"
     ]
    }
   ],
   "source": [
    "import random as r\n",
    "s= set()\n",
    "for i in range(1,101):\n",
    "        numero= r.randint(1,25)\n",
    "        s.add(numero)\n",
    "print(s)      \n",
    "#Al ser un set no se pueden repetir los numeros\n",
    "print(len(s))"
   ]
  }
 ],
 "metadata": {
  "kernelspec": {
   "display_name": "Python 3",
   "language": "python",
   "name": "python3"
  },
  "language_info": {
   "codemirror_mode": {
    "name": "ipython",
    "version": 3
   },
   "file_extension": ".py",
   "mimetype": "text/x-python",
   "name": "python",
   "nbconvert_exporter": "python",
   "pygments_lexer": "ipython3",
   "version": "3.8.5"
  }
 },
 "nbformat": 4,
 "nbformat_minor": 4
}
